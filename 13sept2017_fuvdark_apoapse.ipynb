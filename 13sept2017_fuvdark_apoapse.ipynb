{
 "cells": [
  {
   "cell_type": "code",
   "execution_count": null,
   "metadata": {},
   "outputs": [],
   "source": [
    "import numpy as np\n",
    "import matplotlib.pyplot as plt\n",
    "from astropy.io import fits\n",
    "\n",
    "import os, sys\n",
    "sys.path.append(os.path.abspath(r\"C:\\Users\\benja\\Documents\\Johnston_MAVEN\"))\n",
    "import BensFunctionsV2 as bf"
   ]
  },
  {
   "cell_type": "code",
   "execution_count": null,
   "metadata": {},
   "outputs": [],
   "source": []
  },
  {
   "cell_type": "code",
   "execution_count": null,
   "metadata": {
    "scrolled": false
   },
   "outputs": [],
   "source": [
    "#list of dates corresponding to the specified orbit range\n",
    "\n",
    "dates = ['Sep 09', 'Sep 09', 'Sep 10', 'Sep 10', 'Sep 11', 'Sep 11', 'Sep 12', 'Sep 12', 'Sep 13', 'Sep 13', 'Sep 14', \\\n",
    "         'Sep 15', 'Sep 15', 'Sep 16', 'Sep 16']\n",
    "\n",
    "Dir = r\"C:\\Users\\benja\\Documents\\MAVEN_Research_files\\allFUVDark\" #directory to locate files\n",
    "dark = 0 #use the first dark only\n",
    "Range = (5712, 5742) #orbit range\n",
    "Type = 'apoapse' #observational mode\n",
    "LegendLoc = (0.84,  0.9) #location for legend\n",
    "lim0 = (0, 2.5) #y-limit for log plot\n",
    "lim1 = (0.2, 6) #y-limit for percent plot\n",
    "C = 'k' #plot color\n",
    "S = 10 #plot scatter marker size\n",
    "M = '*' #plot marker style\n",
    "Step = 2 #step for each tick mark in pretty plots\n",
    "\n",
    "\n",
    "Shape = (5, 10, 51) #shape of files\n",
    "\n",
    "Name0 = 'apoapsea.png' #name of log count plot\n",
    "Name1 = 'apoapsePercent.png' #name of percent plot\n",
    "\n",
    "cube, counts, percents, medians, countOrbs, orbits, files, headers, std, mode = \\\n",
    "    bf.runAll(Dir, Type, dark, Shape, Range,'log', dates, Name0, \\\n",
    "              Name1, LegendLoc, lim0, lim1, C, M, S, Step, frame=False, ALL=False)"
   ]
  },
  {
   "cell_type": "code",
   "execution_count": null,
   "metadata": {
    "scrolled": false
   },
   "outputs": [],
   "source": [
    "plt.scatter(countOrbs,  medians)\n",
    "plt.title('image median vs orbit')#, first image only')\n",
    "#plt.ylim(500, 2000)\n",
    "plt.xlim(5710, 5740)"
   ]
  },
  {
   "cell_type": "code",
   "execution_count": null,
   "metadata": {},
   "outputs": [],
   "source": [
    "plt.scatter(countOrbs,  medians/np.amax(medians), label='median')\n",
    "plt.scatter(countOrbs, percents/np.amax(percents), label='percents')\n",
    "plt.title('image median vs orbit')#, first image only')\n",
    "#plt.ylim(500, 2000)\n",
    "plt.xlim(5710, 5740)"
   ]
  },
  {
   "cell_type": "code",
   "execution_count": null,
   "metadata": {},
   "outputs": [],
   "source": []
  },
  {
   "cell_type": "code",
   "execution_count": null,
   "metadata": {
    "scrolled": false
   },
   "outputs": [],
   "source": [
    "Os = [countOrbs]\n",
    "Ms = [medians]\n",
    "\n",
    "def plotPrettyMedians(orbits, medians, dates, c, s, saveName, Type, step, frameOff=False):\n",
    "    \"\"\"\n",
    "    This makes a custom plot of orbits vs percent counts (#Outliers/total pixel count) for comparison to other \n",
    "    figure (i.e. from papers, etc)\n",
    "    The figure has 2 x-axes: the lower is orbit # and the upper is the corresponding date, the y axis is on the right side\n",
    "    \n",
    "    ---Inputs---\n",
    "    1. orbits - the list of orbits, i.e. the output of getSpecifics()\n",
    "    2. percentss - the percent counts, i.e. the output of findOutliers()\n",
    "    3. dates - a list of dates corresponding to the orbit list, get the dates from the headers and manually enter a list\n",
    "    4. c - the color of the plot, i.e. 'red', see matplotlib documentation, string\n",
    "    5. m - the marker style, see matplotlib documentation \"markersStyle\", string\n",
    "    6. s - the marker size for the scatter plot, number\n",
    "    7. saveName - string ending in .png, i.e. 'test.png', the name of the file to save to\n",
    "    8. legendLoc - 2-number tuple, determines where to place the legend on the plot\n",
    "    9. ylim - this specifies the ylimits, enter a 2-number tuple\n",
    "    10. Type - the observational mode, must match other functions, enter a string\n",
    "    11. step - how many orbits to step between x-ticks, enter a number\n",
    "    12. dark - number, which dark to use if more than 1 are available\n",
    "    13. frameOff - this is default to False, where the axes will be shown.  If set to True, the axes will be hidden\n",
    "    14. thres - threshold to look for outliers, default is 6. must match other functions\n",
    "    \n",
    "    ---Outputs---\n",
    "    1. A plot of orbits vs log counts with dual axes, orbit # and corresponding date\n",
    "    \n",
    "    ---Example---\n",
    "    dates = ['Sep 07', 'sep 09', 'Sep 11', 'sep 13', 'Sep 14', 'sep 16', 'Sep 18', 'sep 20', 'Sep 22', 'sep 24', 'Sep 26']\n",
    "    plotPrettyLogCounts(orbits, cubeCounts, dates, 'r', '*', 5, 'test.png', (0.85, 0.94), (0, 2), 'apoapse', 10)\n",
    "    \n",
    "    \"\"\"  \n",
    "    \n",
    "    f = plt.figure(figsize=(10,4), dpi=300) #make the figure and axes\n",
    "    ax = f.add_subplot(111) #make the bottom x-axis\n",
    "    ax2 = ax.twiny() #make the top x-axis\n",
    "\n",
    "    ax.yaxis.tick_right() #set the y-axis positions\n",
    "    ax.yaxis.set_label_position(\"right\")\n",
    "    ax.yaxis.label.set_color(c) #set the y-axis color and position\n",
    "    ax.set_ylabel('Image Median (DN)')\n",
    "\n",
    "    if frameOff == False: #only do the following if the frame axes are shown\n",
    "        plt.ylabel('Image Median (DN)') #show labels and title if the axes are shown\n",
    "        plt.xlabel('Orbit date')\n",
    "        plt.title('Median vs Orbit Number')\n",
    "        ax.set_xlabel('Orbit #') #set label\n",
    "    \n",
    "    plt.scatter(orbits, medians, label=Type+' Dark', marker=\"X\", c='k', s=s) #scatter plot of orbits vs percents\n",
    "\n",
    "    ax2.set_xticks(np.arange(min(orbits), max(orbits), step=step)) #set the top axis with the entered string of dates\n",
    "    ax2.set_xticklabels(dates, fontsize=8) #set labels\n",
    "    ax2.set_xlim(left=min(orbits), right=max(orbits)) #set limits\n",
    "\n",
    "    ax.set_xticks(np.arange(min(orbits), max(orbits), step=step)) #set the bottom axis with orbit numbers\n",
    "    ax.set_xlim(left=min(orbits), right=max(orbits)) #set labels\n",
    "    \n",
    "    if frameOff == True: #this determines whether or not to turn the axes off\n",
    "        #if true, hide all axes labels and tick marks\n",
    "        ax.set_xticks([]) #turn off xtick marks and labels\n",
    "        ax.set_xticklabels([])\n",
    "        ax2.set_xticks([])\n",
    "        ax2.set_xticklabels([])\n",
    "        ax.set_xlabel('')\n",
    "    ax.set_ylim(top=740)\n",
    "    plt.legend(loc='upper right', frameon=False); #show legend\n",
    "    plt.savefig(str(saveName), bbox_inches='tight', transparent=True) #save the figure and show the plot\n",
    "\n",
    "    \n",
    "sN = Name0\n",
    "    \n",
    "o = []\n",
    "m = []\n",
    "om = []\n",
    "\n",
    "for i in range(len(Os)):\n",
    "    for j in range(len(Os[i])):\n",
    "        if Ms[i][j] <=3500:\n",
    "            o.append(Os[i][j])\n",
    "            m.append(Ms[i][j])\n",
    "            om.append((Os[i][j], Ms[i][j]))\n",
    "\n",
    "om.sort()\n",
    "oN = []\n",
    "mN = []\n",
    "for i in range(len(om)):\n",
    "    oN.append(om[i][0])\n",
    "    mN.append(om[i][1])\n",
    "    \n",
    "\n",
    "\n",
    "\n",
    "key = list(dict.fromkeys(oN))\n",
    "mAll = []\n",
    "for j in range(len(key)):\n",
    "    mSep = []\n",
    "    for i in range(len(oN)):\n",
    "        if oN[i] == key[j]:\n",
    "            mSep.append(mN[i])\n",
    "    mAll.append(np.mean(mSep))\n",
    "    \n",
    "plt.scatter(o, m)\n",
    "plt.scatter(key, mAll)\n",
    "    \n",
    "plotPrettyMedians(key, mAll, dates, C, S, sN, Type, Step, frameOff=False)"
   ]
  },
  {
   "cell_type": "code",
   "execution_count": null,
   "metadata": {
    "scrolled": true
   },
   "outputs": [],
   "source": []
  },
  {
   "cell_type": "code",
   "execution_count": null,
   "metadata": {},
   "outputs": [],
   "source": []
  },
  {
   "cell_type": "code",
   "execution_count": null,
   "metadata": {},
   "outputs": [],
   "source": []
  },
  {
   "cell_type": "code",
   "execution_count": null,
   "metadata": {
    "scrolled": true
   },
   "outputs": [],
   "source": []
  },
  {
   "cell_type": "code",
   "execution_count": null,
   "metadata": {},
   "outputs": [],
   "source": []
  },
  {
   "cell_type": "code",
   "execution_count": null,
   "metadata": {
    "scrolled": false
   },
   "outputs": [],
   "source": []
  },
  {
   "cell_type": "code",
   "execution_count": null,
   "metadata": {},
   "outputs": [],
   "source": []
  },
  {
   "cell_type": "code",
   "execution_count": null,
   "metadata": {
    "scrolled": true
   },
   "outputs": [],
   "source": []
  },
  {
   "cell_type": "code",
   "execution_count": null,
   "metadata": {},
   "outputs": [],
   "source": []
  },
  {
   "cell_type": "code",
   "execution_count": null,
   "metadata": {},
   "outputs": [],
   "source": []
  },
  {
   "cell_type": "code",
   "execution_count": null,
   "metadata": {
    "scrolled": true
   },
   "outputs": [],
   "source": []
  },
  {
   "cell_type": "code",
   "execution_count": null,
   "metadata": {
    "scrolled": true
   },
   "outputs": [],
   "source": []
  },
  {
   "cell_type": "code",
   "execution_count": null,
   "metadata": {},
   "outputs": [],
   "source": []
  },
  {
   "cell_type": "code",
   "execution_count": null,
   "metadata": {
    "scrolled": false
   },
   "outputs": [],
   "source": []
  },
  {
   "cell_type": "code",
   "execution_count": null,
   "metadata": {},
   "outputs": [],
   "source": []
  },
  {
   "cell_type": "code",
   "execution_count": null,
   "metadata": {
    "scrolled": false
   },
   "outputs": [],
   "source": []
  },
  {
   "cell_type": "code",
   "execution_count": null,
   "metadata": {},
   "outputs": [],
   "source": []
  },
  {
   "cell_type": "code",
   "execution_count": null,
   "metadata": {},
   "outputs": [],
   "source": []
  },
  {
   "cell_type": "code",
   "execution_count": null,
   "metadata": {
    "scrolled": false
   },
   "outputs": [],
   "source": []
  },
  {
   "cell_type": "code",
   "execution_count": null,
   "metadata": {},
   "outputs": [],
   "source": []
  },
  {
   "cell_type": "code",
   "execution_count": null,
   "metadata": {},
   "outputs": [],
   "source": []
  },
  {
   "cell_type": "code",
   "execution_count": null,
   "metadata": {},
   "outputs": [],
   "source": []
  },
  {
   "cell_type": "code",
   "execution_count": null,
   "metadata": {},
   "outputs": [],
   "source": []
  },
  {
   "cell_type": "code",
   "execution_count": null,
   "metadata": {
    "scrolled": false
   },
   "outputs": [],
   "source": []
  },
  {
   "cell_type": "code",
   "execution_count": null,
   "metadata": {},
   "outputs": [],
   "source": []
  },
  {
   "cell_type": "code",
   "execution_count": null,
   "metadata": {
    "scrolled": false
   },
   "outputs": [],
   "source": []
  },
  {
   "cell_type": "code",
   "execution_count": null,
   "metadata": {
    "scrolled": false
   },
   "outputs": [],
   "source": []
  },
  {
   "cell_type": "code",
   "execution_count": null,
   "metadata": {
    "scrolled": false
   },
   "outputs": [],
   "source": []
  },
  {
   "cell_type": "code",
   "execution_count": null,
   "metadata": {},
   "outputs": [],
   "source": []
  },
  {
   "cell_type": "code",
   "execution_count": null,
   "metadata": {
    "scrolled": false
   },
   "outputs": [],
   "source": []
  },
  {
   "cell_type": "code",
   "execution_count": null,
   "metadata": {
    "scrolled": false
   },
   "outputs": [],
   "source": []
  },
  {
   "cell_type": "code",
   "execution_count": null,
   "metadata": {},
   "outputs": [],
   "source": []
  },
  {
   "cell_type": "code",
   "execution_count": null,
   "metadata": {},
   "outputs": [],
   "source": []
  },
  {
   "cell_type": "code",
   "execution_count": null,
   "metadata": {},
   "outputs": [],
   "source": []
  },
  {
   "cell_type": "code",
   "execution_count": null,
   "metadata": {},
   "outputs": [],
   "source": []
  },
  {
   "cell_type": "code",
   "execution_count": null,
   "metadata": {},
   "outputs": [],
   "source": []
  },
  {
   "cell_type": "code",
   "execution_count": null,
   "metadata": {
    "scrolled": true
   },
   "outputs": [],
   "source": []
  },
  {
   "cell_type": "code",
   "execution_count": null,
   "metadata": {
    "scrolled": true
   },
   "outputs": [],
   "source": []
  },
  {
   "cell_type": "code",
   "execution_count": null,
   "metadata": {
    "scrolled": true
   },
   "outputs": [],
   "source": []
  },
  {
   "cell_type": "code",
   "execution_count": null,
   "metadata": {},
   "outputs": [],
   "source": []
  },
  {
   "cell_type": "code",
   "execution_count": null,
   "metadata": {},
   "outputs": [],
   "source": []
  },
  {
   "cell_type": "code",
   "execution_count": null,
   "metadata": {},
   "outputs": [],
   "source": []
  },
  {
   "cell_type": "code",
   "execution_count": null,
   "metadata": {},
   "outputs": [],
   "source": []
  },
  {
   "cell_type": "code",
   "execution_count": null,
   "metadata": {},
   "outputs": [],
   "source": []
  },
  {
   "cell_type": "code",
   "execution_count": null,
   "metadata": {},
   "outputs": [],
   "source": []
  },
  {
   "cell_type": "code",
   "execution_count": null,
   "metadata": {},
   "outputs": [],
   "source": []
  }
 ],
 "metadata": {
  "kernelspec": {
   "display_name": "Python 3",
   "language": "python",
   "name": "python3"
  },
  "language_info": {
   "codemirror_mode": {
    "name": "ipython",
    "version": 3
   },
   "file_extension": ".py",
   "mimetype": "text/x-python",
   "name": "python",
   "nbconvert_exporter": "python",
   "pygments_lexer": "ipython3",
   "version": "3.7.6"
  }
 },
 "nbformat": 4,
 "nbformat_minor": 2
}
