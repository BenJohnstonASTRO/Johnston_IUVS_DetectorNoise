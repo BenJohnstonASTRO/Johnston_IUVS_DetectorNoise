{
 "cells": [
  {
   "cell_type": "code",
   "execution_count": null,
   "metadata": {},
   "outputs": [],
   "source": [
    "import numpy as np\n",
    "import matplotlib.pyplot as plt\n",
    "from astropy.io import fits\n",
    "\n",
    "import os, sys\n",
    "import FULLMISSION_Bens_Functions_allDark as bf\n",
    "import gc"
   ]
  },
  {
   "cell_type": "code",
   "execution_count": null,
   "metadata": {},
   "outputs": [],
   "source": [
    "listShapes = [(2, 10, 184),\n",
    " (2, 10, 256),\n",
    " (2, 10, 96),\n",
    " (2, 10, 72),\n",
    " (2, 10, 36),\n",
    " (2, 10, 200),\n",
    " (2, 32, 256)]"
   ]
  },
  {
   "cell_type": "code",
   "execution_count": null,
   "metadata": {
    "scrolled": false
   },
   "outputs": [],
   "source": [
    "#list of dates corresponding to the specified orbit range\n",
    "\n",
    "dates = ['Sep 07', 'sep 09', 'Sep 11', 'sep 13', 'Sep 14', 'sep 16', 'Sep 18', 'sep 20', 'Sep 22', 'sep 24', 'Sep 26'] \n",
    "Dir = r\"C:\\Users\\benja\\Documents\\MAVEN_Research_files\\ALLFUVDark\" #directory to locate files\n",
    "dark = 0 #use the first dark only\n",
    "Range = (0, 12000) #orbit range\n",
    "Type = 'apoapse' #observational mode\n",
    "LegendLoc = (0.84,  0.9) #location for legend\n",
    "lim0 = (0, 2.5) #y-limit for log plot\n",
    "lim1 = (0, 14) #y-limit for percent plot\n",
    "C = 'r' #plot color\n",
    "S = 5 #plot scatter marker size\n",
    "M = '*' #plot marker style\n",
    "Step = 10 #step for each tick mark in pretty plots\n",
    "\n",
    "s = bf.getFiles(Type, Dir)\n",
    "\n",
    "allCounts = []\n",
    "allPercents = []\n",
    "allOrbits = []\n",
    "allHeaders = []\n",
    "allExposures = []\n",
    "for i in range(len(listShapes)):\n",
    "    gc.collect()\n",
    "    print('\\n\\n\\n\\n\\n\\n\\n\\n\\n\\n-------------------------------------------------------------------------------------------')\n",
    "    Shape = listShapes[i] #shape of files\n",
    "\n",
    "    Name0 = '{}a.png'.format(i) #name of log count plot\n",
    "    Name1 = '{}b.png'.format(i) #name of percent plot\n",
    "\n",
    "    cube, counts, percents, medians, countOrbs, orbits, files, headers, exposures, std, mode = \\\n",
    "        bf.runAll(Dir, Type, dark, Shape, Range,'log', dates, Name0, \\\n",
    "                  Name1, LegendLoc, lim0, lim1, C, M, S, Step, F=s)\n",
    "    allCounts.append(counts)\n",
    "    allPercents.append(percents)\n",
    "    allOrbits.append(countOrbs)\n",
    "    allHeaders.append(headers)\n",
    "    allExposures.append(exposures)\n",
    "    gc.collect()"
   ]
  },
  {
   "cell_type": "code",
   "execution_count": null,
   "metadata": {
    "scrolled": false
   },
   "outputs": [],
   "source": [
    "#PERCENT VS ORBIT - FOR ME\n",
    "plt.figure(figsize=(10, 6), dpi=100)\n",
    "plt.ylabel('Number 6-sigma pixel outliers / total pixel count')\n",
    "plt.xlabel('Orbit #')\n",
    "plt.title('Percent 6-sigma Pixel Outliers vs. Orbit # - {}'.format(Type))\n",
    "for i in range(len(allOrbits)):\n",
    "    if listShapes[i] != (5, 10, 153) and listShapes[i] != (4, 10, 51):\n",
    "        plt.scatter(allOrbits[i], allPercents[i], label='{}'.format(listShapes[i]), s=2.5)\n",
    "plt.legend()\n",
    "plt.ylim(bottom=0, top=12.5)\n",
    "plt.show()\n",
    "\n",
    "#PERCENT VS  ORBIT - NICE PLOT\n",
    "plt.figure(figsize=(10, 6), dpi=100)\n",
    "plt.ylabel('Number 6-sigma pixel outliers / total pixel count')\n",
    "plt.xlabel('Orbit #')\n",
    "plt.title('Percent 6-sigma Pixel Outliers vs. Orbit # - {}'.format(Type))\n",
    "for i in range(len(allOrbits)):\n",
    "    if i == 0:\n",
    "        plt.scatter(allOrbits[i], (allPercents[i]), label='Bins: {}, {}'.format(listShapes[i][-2], listShapes[i][-1]), s=2.5, c='k')\n",
    "    else:\n",
    "        plt.scatter(allOrbits[i], (allPercents[i]), label='{}'.format(listShapes[i][-1]), s=2.5, c='k')\n",
    "plt.legend()\n",
    "plt.show()\n",
    "\n",
    "\n",
    "#LOG VS ORBIT - FOR ME\n",
    "plt.figure(figsize=(10, 6), dpi=100)\n",
    "plt.ylabel('Log Number 6-sigma pixel outliers')\n",
    "plt.xlabel('Orbit #')\n",
    "plt.title('Log 6-sigma Pixel Outliers vs. Orbit # - {}'.format(Type))\n",
    "for i in range(len(allOrbits)):\n",
    "    plt.scatter(allOrbits[i], np.log10(allCounts[i]), label='{}'.format(listShapes[i]), s=2.5)\n",
    "plt.legend()\n",
    "plt.show()\n",
    "\n",
    "#LOG VS ORBIT - NICE PLOT\n",
    "plt.figure(figsize=(10, 6), dpi=100)\n",
    "plt.ylabel('Log Number 6-sigma pixel outliers')\n",
    "plt.xlabel('Orbit #')\n",
    "plt.title('Log 6-sigma Pixel Outliers vs. Orbit # - {}'.format(Type))\n",
    "for i in range(4, len(allOrbits)):\n",
    "    if i != 2:\n",
    "        if i != 3:\n",
    "            if i == 0:\n",
    "                plt.scatter(allOrbits[i], np.log10(allCounts[i]), label='Bins: {}, {}'.format(listShapes[i][-2], listShapes[i][-1]), s=2.5, c='k')\n",
    "            else:\n",
    "                plt.scatter(allOrbits[i], np.log10(allCounts[i]), label='{}'.format(listShapes[i][-1]), s=2.5, c='k')\n",
    "plt.legend()\n",
    "plt.show()"
   ]
  },
  {
   "cell_type": "code",
   "execution_count": null,
   "metadata": {},
   "outputs": [],
   "source": []
  },
  {
   "cell_type": "code",
   "execution_count": null,
   "metadata": {
    "scrolled": true
   },
   "outputs": [],
   "source": []
  },
  {
   "cell_type": "code",
   "execution_count": null,
   "metadata": {
    "scrolled": true
   },
   "outputs": [],
   "source": []
  },
  {
   "cell_type": "code",
   "execution_count": null,
   "metadata": {},
   "outputs": [],
   "source": []
  },
  {
   "cell_type": "code",
   "execution_count": null,
   "metadata": {},
   "outputs": [],
   "source": []
  },
  {
   "cell_type": "code",
   "execution_count": null,
   "metadata": {
    "scrolled": true
   },
   "outputs": [],
   "source": []
  },
  {
   "cell_type": "code",
   "execution_count": null,
   "metadata": {},
   "outputs": [],
   "source": []
  },
  {
   "cell_type": "code",
   "execution_count": null,
   "metadata": {
    "scrolled": false
   },
   "outputs": [],
   "source": []
  },
  {
   "cell_type": "code",
   "execution_count": null,
   "metadata": {},
   "outputs": [],
   "source": []
  },
  {
   "cell_type": "code",
   "execution_count": null,
   "metadata": {
    "scrolled": true
   },
   "outputs": [],
   "source": []
  },
  {
   "cell_type": "code",
   "execution_count": null,
   "metadata": {},
   "outputs": [],
   "source": []
  },
  {
   "cell_type": "code",
   "execution_count": null,
   "metadata": {},
   "outputs": [],
   "source": []
  },
  {
   "cell_type": "code",
   "execution_count": null,
   "metadata": {
    "scrolled": true
   },
   "outputs": [],
   "source": []
  },
  {
   "cell_type": "code",
   "execution_count": null,
   "metadata": {
    "scrolled": true
   },
   "outputs": [],
   "source": []
  },
  {
   "cell_type": "code",
   "execution_count": null,
   "metadata": {},
   "outputs": [],
   "source": []
  },
  {
   "cell_type": "code",
   "execution_count": null,
   "metadata": {
    "scrolled": false
   },
   "outputs": [],
   "source": []
  },
  {
   "cell_type": "code",
   "execution_count": null,
   "metadata": {},
   "outputs": [],
   "source": []
  },
  {
   "cell_type": "code",
   "execution_count": null,
   "metadata": {
    "scrolled": false
   },
   "outputs": [],
   "source": []
  },
  {
   "cell_type": "code",
   "execution_count": null,
   "metadata": {},
   "outputs": [],
   "source": []
  },
  {
   "cell_type": "code",
   "execution_count": null,
   "metadata": {},
   "outputs": [],
   "source": []
  },
  {
   "cell_type": "code",
   "execution_count": null,
   "metadata": {
    "scrolled": false
   },
   "outputs": [],
   "source": []
  },
  {
   "cell_type": "code",
   "execution_count": null,
   "metadata": {},
   "outputs": [],
   "source": []
  },
  {
   "cell_type": "code",
   "execution_count": null,
   "metadata": {},
   "outputs": [],
   "source": []
  },
  {
   "cell_type": "code",
   "execution_count": null,
   "metadata": {},
   "outputs": [],
   "source": []
  },
  {
   "cell_type": "code",
   "execution_count": null,
   "metadata": {},
   "outputs": [],
   "source": []
  },
  {
   "cell_type": "code",
   "execution_count": null,
   "metadata": {
    "scrolled": false
   },
   "outputs": [],
   "source": []
  },
  {
   "cell_type": "code",
   "execution_count": null,
   "metadata": {},
   "outputs": [],
   "source": []
  },
  {
   "cell_type": "code",
   "execution_count": null,
   "metadata": {
    "scrolled": false
   },
   "outputs": [],
   "source": []
  },
  {
   "cell_type": "code",
   "execution_count": null,
   "metadata": {
    "scrolled": false
   },
   "outputs": [],
   "source": []
  },
  {
   "cell_type": "code",
   "execution_count": null,
   "metadata": {
    "scrolled": false
   },
   "outputs": [],
   "source": []
  },
  {
   "cell_type": "code",
   "execution_count": null,
   "metadata": {},
   "outputs": [],
   "source": []
  },
  {
   "cell_type": "code",
   "execution_count": null,
   "metadata": {
    "scrolled": false
   },
   "outputs": [],
   "source": []
  },
  {
   "cell_type": "code",
   "execution_count": null,
   "metadata": {
    "scrolled": false
   },
   "outputs": [],
   "source": []
  },
  {
   "cell_type": "code",
   "execution_count": null,
   "metadata": {},
   "outputs": [],
   "source": []
  },
  {
   "cell_type": "code",
   "execution_count": null,
   "metadata": {},
   "outputs": [],
   "source": []
  },
  {
   "cell_type": "code",
   "execution_count": null,
   "metadata": {},
   "outputs": [],
   "source": []
  },
  {
   "cell_type": "code",
   "execution_count": null,
   "metadata": {},
   "outputs": [],
   "source": []
  },
  {
   "cell_type": "code",
   "execution_count": null,
   "metadata": {},
   "outputs": [],
   "source": []
  },
  {
   "cell_type": "code",
   "execution_count": null,
   "metadata": {
    "scrolled": true
   },
   "outputs": [],
   "source": []
  },
  {
   "cell_type": "code",
   "execution_count": null,
   "metadata": {
    "scrolled": true
   },
   "outputs": [],
   "source": []
  },
  {
   "cell_type": "code",
   "execution_count": null,
   "metadata": {
    "scrolled": true
   },
   "outputs": [],
   "source": []
  },
  {
   "cell_type": "code",
   "execution_count": null,
   "metadata": {},
   "outputs": [],
   "source": []
  },
  {
   "cell_type": "code",
   "execution_count": null,
   "metadata": {},
   "outputs": [],
   "source": []
  },
  {
   "cell_type": "code",
   "execution_count": null,
   "metadata": {},
   "outputs": [],
   "source": []
  },
  {
   "cell_type": "code",
   "execution_count": null,
   "metadata": {},
   "outputs": [],
   "source": []
  },
  {
   "cell_type": "code",
   "execution_count": null,
   "metadata": {},
   "outputs": [],
   "source": []
  },
  {
   "cell_type": "code",
   "execution_count": null,
   "metadata": {},
   "outputs": [],
   "source": []
  },
  {
   "cell_type": "code",
   "execution_count": null,
   "metadata": {},
   "outputs": [],
   "source": []
  }
 ],
 "metadata": {
  "kernelspec": {
   "display_name": "Python 3",
   "language": "python",
   "name": "python3"
  },
  "language_info": {
   "codemirror_mode": {
    "name": "ipython",
    "version": 3
   },
   "file_extension": ".py",
   "mimetype": "text/x-python",
   "name": "python",
   "nbconvert_exporter": "python",
   "pygments_lexer": "ipython3",
   "version": "3.7.6"
  }
 },
 "nbformat": 4,
 "nbformat_minor": 2
}
