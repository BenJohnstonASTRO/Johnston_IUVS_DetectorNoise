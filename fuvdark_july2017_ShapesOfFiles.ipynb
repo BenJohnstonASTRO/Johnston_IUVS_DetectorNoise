{
 "cells": [
  {
   "cell_type": "code",
   "execution_count": 1,
   "metadata": {},
   "outputs": [],
   "source": [
    "#Import necessary modules\n",
    "\n",
    "import numpy as np\n",
    "import numpy.ma as ma\n",
    "import matplotlib\n",
    "from astropy.io import fits\n",
    "from scipy.stats import mode\n",
    "import matplotlib.pyplot as plt\n",
    "import os, sys\n",
    "import fnmatch as fnm\n",
    "import BensFunctions as bf\n",
    "plt.rcParams.update({'figure.max_open_warning': 0})"
   ]
  },
  {
   "cell_type": "code",
   "execution_count": 2,
   "metadata": {},
   "outputs": [
    {
     "data": {
      "text/plain": [
       "<Figure size 432x288 with 0 Axes>"
      ]
     },
     "metadata": {},
     "output_type": "display_data"
    }
   ],
   "source": [
    "#Look for files containing \"fuvdark\" in the name\n",
    "plt.clf()\n",
    "s = bf.find_all(\"*-fuvdark_*\", r\"C:\\Users\\benja\\Documents\\MAVEN_Research_files\\apoapse_july2017\") "
   ]
  },
  {
   "cell_type": "code",
   "execution_count": 3,
   "metadata": {},
   "outputs": [
    {
     "data": {
      "text/plain": [
       "121"
      ]
     },
     "execution_count": 3,
     "metadata": {},
     "output_type": "execute_result"
    }
   ],
   "source": [
    "len(s)"
   ]
  },
  {
   "cell_type": "code",
   "execution_count": 4,
   "metadata": {},
   "outputs": [],
   "source": [
    "#Sort the files in ascending orbit #\n",
    "s.sort()\n",
    "\n",
    "#Get orbit numbers corredponding to each file\n",
    "allOrbits = []\n",
    "for i in range(len(s)): \n",
    "    allOrbits.append(int(s[i][:-40][-5:])) #Index out just the 5-digit orbit number\n",
    "    \n",
    "allOrbits = np.array(allOrbits)"
   ]
  },
  {
   "cell_type": "code",
   "execution_count": 5,
   "metadata": {
    "scrolled": true
   },
   "outputs": [],
   "source": [
    "#Get all the file shapes in the list of files\n",
    "shapes = []\n",
    "headers = []\n",
    "\n",
    "\n",
    "for i in range(len(s)):\n",
    "    file = s[i]\n",
    "    image = fits.open(file) #open each image and data, same as before\n",
    "    image_data = fits.getdata(file)\n",
    "    prim = image[0]\n",
    "    prim_data = image[0].data\n",
    "    header = prim.header\n",
    "    \n",
    "    shape = prim_data.shape\n",
    "    headers.append(header)\n",
    "    shapes.append(shape)\n",
    "    #print(shape, allOrbits[i], headers[i]['FILENAME'][12:25])\n",
    "\n",
    "allShapes = list(dict.fromkeys(shapes))"
   ]
  },
  {
   "cell_type": "code",
   "execution_count": 6,
   "metadata": {
    "scrolled": true
   },
   "outputs": [
    {
     "name": "stdout",
     "output_type": "stream",
     "text": [
      "(5, 10, 51)\n",
      "(4, 10, 51)\n"
     ]
    }
   ],
   "source": [
    "listShapes = []\n",
    "for i in range(len(allShapes)):\n",
    "    if allShapes[i][0] <= 5 and allShapes[i][1] <= 1050:\n",
    "        print(allShapes[i])\n",
    "        listShapes.append(allShapes[i])"
   ]
  },
  {
   "cell_type": "markdown",
   "metadata": {
    "scrolled": true
   },
   "source": [
    "Types of observational modes:\n",
    "\n",
    "apoapse, periapse,\n",
    "inlimb, outlimb,\n",
    "indisk, outdisk,\n",
    "inspace,\n",
    "incorona, outcorona,\n",
    "occultation,\n",
    "outdiskhifi, periapsehifi, outcoronahifi\n"
   ]
  },
  {
   "cell_type": "code",
   "execution_count": 7,
   "metadata": {
    "scrolled": true
   },
   "outputs": [
    {
     "data": {
      "text/plain": [
       "[(5, 10, 51), (4, 10, 51)]"
      ]
     },
     "execution_count": 7,
     "metadata": {},
     "output_type": "execute_result"
    }
   ],
   "source": [
    "(listShapes)"
   ]
  },
  {
   "cell_type": "code",
   "execution_count": 8,
   "metadata": {
    "scrolled": false
   },
   "outputs": [
    {
     "data": {
      "text/plain": [
       "[]"
      ]
     },
     "execution_count": 8,
     "metadata": {},
     "output_type": "execute_result"
    }
   ],
   "source": [
    "o1 = 100\n",
    "o2 = 10000\n",
    "per = []\n",
    "for i in range(len(shapes)):\n",
    "    x = headers[i]['FILENAME'][12:20]\n",
    "    if x == 'periapse':\n",
    "        if allOrbits[i] >= o1 and allOrbits[i] <= o2:\n",
    "            per.append(shapes[i])\n",
    "\n",
    "per = list(dict.fromkeys(per))\n",
    "per"
   ]
  },
  {
   "cell_type": "code",
   "execution_count": 9,
   "metadata": {},
   "outputs": [
    {
     "data": {
      "text/plain": [
       "[(5, 10, 51), (4, 10, 51), (240, 10, 51)]"
      ]
     },
     "execution_count": 9,
     "metadata": {},
     "output_type": "execute_result"
    }
   ],
   "source": [
    "apo = []\n",
    "for i in range(len(shapes)):\n",
    "    x = headers[i]['FILENAME'][12:19]\n",
    "    if x == 'apoapse':\n",
    "        if allOrbits[i] >= o1 and allOrbits[i] <= o2:\n",
    "            apo.append(shapes[i])\n",
    "\n",
    "apo = list(dict.fromkeys(apo))\n",
    "apo"
   ]
  },
  {
   "cell_type": "code",
   "execution_count": 10,
   "metadata": {
    "scrolled": true
   },
   "outputs": [
    {
     "data": {
      "text/plain": [
       "(5425, 5483)"
      ]
     },
     "execution_count": 10,
     "metadata": {},
     "output_type": "execute_result"
    }
   ],
   "source": [
    "min(allOrbits), max(allOrbits)"
   ]
  },
  {
   "cell_type": "code",
   "execution_count": null,
   "metadata": {},
   "outputs": [],
   "source": []
  },
  {
   "cell_type": "code",
   "execution_count": 11,
   "metadata": {},
   "outputs": [
    {
     "data": {
      "text/plain": [
       "[]"
      ]
     },
     "execution_count": 11,
     "metadata": {},
     "output_type": "execute_result"
    }
   ],
   "source": [
    "outD = []\n",
    "for i in range(len(shapes)):\n",
    "    x = headers[i]['FILENAME'][12:19]\n",
    "    if x == 'outdisk':\n",
    "        if allOrbits[i] >= o1 and allOrbits[i] <= o2:\n",
    "            outD.append(shapes[i])\n",
    "\n",
    "outD = list(dict.fromkeys(outD))\n",
    "outD"
   ]
  },
  {
   "cell_type": "code",
   "execution_count": 12,
   "metadata": {
    "scrolled": true
   },
   "outputs": [
    {
     "data": {
      "text/plain": [
       "[]"
      ]
     },
     "execution_count": 12,
     "metadata": {},
     "output_type": "execute_result"
    }
   ],
   "source": [
    "outL = []\n",
    "for i in range(len(shapes)):\n",
    "    x = headers[i]['FILENAME'][12:19]\n",
    "    if x == 'outlimb':\n",
    "        if allOrbits[i] >= o1 and allOrbits[i] <= o2:\n",
    "            outL.append(shapes[i])\n",
    "\n",
    "outL = list(dict.fromkeys(outL))\n",
    "outL"
   ]
  },
  {
   "cell_type": "code",
   "execution_count": 13,
   "metadata": {},
   "outputs": [
    {
     "data": {
      "text/plain": [
       "[]"
      ]
     },
     "execution_count": 13,
     "metadata": {},
     "output_type": "execute_result"
    }
   ],
   "source": [
    "inC = []\n",
    "for i in range(len(shapes)):\n",
    "    x = headers[i]['FILENAME'][12:21]\n",
    "    if x == 'outcorona':\n",
    "        if allOrbits[i] >= o1 and allOrbits[i] <= o2:\n",
    "            inC.append(shapes[i])\n",
    "\n",
    "inC = list(dict.fromkeys(inC))\n",
    "inC"
   ]
  },
  {
   "cell_type": "code",
   "execution_count": 14,
   "metadata": {},
   "outputs": [
    {
     "data": {
      "text/plain": [
       "[]"
      ]
     },
     "execution_count": 14,
     "metadata": {},
     "output_type": "execute_result"
    }
   ],
   "source": [
    "outL = []\n",
    "for i in range(len(shapes)):\n",
    "    x = headers[i]['FILENAME'][12:18]\n",
    "    if x == 'inlimb':\n",
    "        if allOrbits[i] >= o1 and allOrbits[i] <= o2:\n",
    "            outL.append(shapes[i])\n",
    "\n",
    "inL = list(dict.fromkeys(outL))\n",
    "inL"
   ]
  },
  {
   "cell_type": "code",
   "execution_count": 15,
   "metadata": {
    "scrolled": true
   },
   "outputs": [
    {
     "data": {
      "text/plain": [
       "[]"
      ]
     },
     "execution_count": 15,
     "metadata": {},
     "output_type": "execute_result"
    }
   ],
   "source": [
    "outL = []\n",
    "for i in range(len(shapes)):\n",
    "    x = headers[i]['FILENAME'][12:19]\n",
    "    if x == 'inspace':\n",
    "        if allOrbits[i] >= o1 and allOrbits[i] <= o2:\n",
    "            outL.append(shapes[i])\n",
    "inS = list(dict.fromkeys(outL))\n",
    "inS"
   ]
  },
  {
   "cell_type": "code",
   "execution_count": null,
   "metadata": {
    "scrolled": true
   },
   "outputs": [],
   "source": []
  },
  {
   "cell_type": "code",
   "execution_count": null,
   "metadata": {},
   "outputs": [],
   "source": []
  },
  {
   "cell_type": "code",
   "execution_count": null,
   "metadata": {
    "scrolled": false
   },
   "outputs": [],
   "source": []
  },
  {
   "cell_type": "code",
   "execution_count": null,
   "metadata": {
    "scrolled": true
   },
   "outputs": [],
   "source": []
  },
  {
   "cell_type": "code",
   "execution_count": null,
   "metadata": {},
   "outputs": [],
   "source": []
  },
  {
   "cell_type": "code",
   "execution_count": null,
   "metadata": {},
   "outputs": [],
   "source": []
  },
  {
   "cell_type": "code",
   "execution_count": null,
   "metadata": {
    "scrolled": false
   },
   "outputs": [],
   "source": []
  },
  {
   "cell_type": "code",
   "execution_count": null,
   "metadata": {},
   "outputs": [],
   "source": []
  },
  {
   "cell_type": "code",
   "execution_count": null,
   "metadata": {},
   "outputs": [],
   "source": []
  },
  {
   "cell_type": "code",
   "execution_count": null,
   "metadata": {
    "scrolled": false
   },
   "outputs": [],
   "source": []
  },
  {
   "cell_type": "code",
   "execution_count": null,
   "metadata": {},
   "outputs": [],
   "source": []
  },
  {
   "cell_type": "code",
   "execution_count": null,
   "metadata": {},
   "outputs": [],
   "source": []
  },
  {
   "cell_type": "code",
   "execution_count": null,
   "metadata": {},
   "outputs": [],
   "source": []
  },
  {
   "cell_type": "code",
   "execution_count": null,
   "metadata": {},
   "outputs": [],
   "source": []
  },
  {
   "cell_type": "code",
   "execution_count": null,
   "metadata": {
    "scrolled": false
   },
   "outputs": [],
   "source": []
  },
  {
   "cell_type": "code",
   "execution_count": null,
   "metadata": {},
   "outputs": [],
   "source": []
  },
  {
   "cell_type": "code",
   "execution_count": null,
   "metadata": {
    "scrolled": false
   },
   "outputs": [],
   "source": []
  },
  {
   "cell_type": "code",
   "execution_count": null,
   "metadata": {
    "scrolled": false
   },
   "outputs": [],
   "source": []
  },
  {
   "cell_type": "code",
   "execution_count": null,
   "metadata": {
    "scrolled": false
   },
   "outputs": [],
   "source": []
  },
  {
   "cell_type": "code",
   "execution_count": null,
   "metadata": {},
   "outputs": [],
   "source": []
  },
  {
   "cell_type": "code",
   "execution_count": null,
   "metadata": {
    "scrolled": false
   },
   "outputs": [],
   "source": []
  },
  {
   "cell_type": "code",
   "execution_count": null,
   "metadata": {
    "scrolled": false
   },
   "outputs": [],
   "source": []
  },
  {
   "cell_type": "code",
   "execution_count": null,
   "metadata": {},
   "outputs": [],
   "source": []
  },
  {
   "cell_type": "code",
   "execution_count": null,
   "metadata": {},
   "outputs": [],
   "source": []
  },
  {
   "cell_type": "code",
   "execution_count": null,
   "metadata": {},
   "outputs": [],
   "source": []
  },
  {
   "cell_type": "code",
   "execution_count": null,
   "metadata": {},
   "outputs": [],
   "source": []
  },
  {
   "cell_type": "code",
   "execution_count": null,
   "metadata": {},
   "outputs": [],
   "source": []
  },
  {
   "cell_type": "code",
   "execution_count": null,
   "metadata": {
    "scrolled": true
   },
   "outputs": [],
   "source": []
  },
  {
   "cell_type": "code",
   "execution_count": null,
   "metadata": {
    "scrolled": true
   },
   "outputs": [],
   "source": []
  },
  {
   "cell_type": "code",
   "execution_count": null,
   "metadata": {
    "scrolled": true
   },
   "outputs": [],
   "source": []
  },
  {
   "cell_type": "code",
   "execution_count": null,
   "metadata": {},
   "outputs": [],
   "source": []
  },
  {
   "cell_type": "code",
   "execution_count": null,
   "metadata": {},
   "outputs": [],
   "source": []
  },
  {
   "cell_type": "code",
   "execution_count": null,
   "metadata": {},
   "outputs": [],
   "source": []
  },
  {
   "cell_type": "code",
   "execution_count": null,
   "metadata": {},
   "outputs": [],
   "source": []
  },
  {
   "cell_type": "code",
   "execution_count": null,
   "metadata": {},
   "outputs": [],
   "source": []
  },
  {
   "cell_type": "code",
   "execution_count": null,
   "metadata": {},
   "outputs": [],
   "source": []
  },
  {
   "cell_type": "code",
   "execution_count": null,
   "metadata": {},
   "outputs": [],
   "source": []
  }
 ],
 "metadata": {
  "kernelspec": {
   "display_name": "Python 3",
   "language": "python",
   "name": "python3"
  },
  "language_info": {
   "codemirror_mode": {
    "name": "ipython",
    "version": 3
   },
   "file_extension": ".py",
   "mimetype": "text/x-python",
   "name": "python",
   "nbconvert_exporter": "python",
   "pygments_lexer": "ipython3",
   "version": "3.7.6"
  }
 },
 "nbformat": 4,
 "nbformat_minor": 2
}
